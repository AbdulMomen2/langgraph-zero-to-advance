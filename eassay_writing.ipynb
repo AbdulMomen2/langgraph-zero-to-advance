{
 "cells": [
  {
   "cell_type": "code",
   "execution_count": 3,
   "id": "439f6c49",
   "metadata": {},
   "outputs": [],
   "source": [
    "from langgraph.graph import StateGraph, START, END\n",
    "from langchain_openai import ChatOpenAI\n",
    "from typing import TypedDict , Annotated\n",
    "from dotenv import load_dotenv\n",
    "from pydantic import BaseModel, Field\n",
    "import operator"
   ]
  },
  {
   "cell_type": "code",
   "execution_count": 4,
   "id": "600d4c5f",
   "metadata": {},
   "outputs": [
    {
     "data": {
      "text/plain": [
       "True"
      ]
     },
     "execution_count": 4,
     "metadata": {},
     "output_type": "execute_result"
    }
   ],
   "source": [
    "load_dotenv()  # take environment variables from .env."
   ]
  },
  {
   "cell_type": "code",
   "execution_count": 6,
   "id": "c56c56b0",
   "metadata": {},
   "outputs": [],
   "source": [
    "model = ChatOpenAI(model=\"gpt-4o-mini\")"
   ]
  },
  {
   "cell_type": "code",
   "execution_count": 7,
   "id": "3c681efd",
   "metadata": {},
   "outputs": [],
   "source": [
    "class EvaluationModel(BaseModel):\n",
    "    feedback: str = Field(description=\"Feedback on the essay quality\")\n",
    "    score: int = Field(ge=1, le=10, description=\"Score between 1 and 10\")"
   ]
  },
  {
   "cell_type": "code",
   "execution_count": 8,
   "id": "4231be51",
   "metadata": {},
   "outputs": [],
   "source": [
    "structured_model = model.with_structured_output(EvaluationModel)"
   ]
  },
  {
   "cell_type": "code",
   "execution_count": null,
   "id": "fe99430d",
   "metadata": {},
   "outputs": [],
   "source": [
    "class EassayGen(TypedDict):\n",
    "    topic: str\n",
    "    essay_generation: str\n",
    "    language_feedback: str\n",
    "    analysis_feedback: str\n",
    "    clearity_feedback: str\n",
    "    summary: str\n",
    "    scores: Annotated[list[int],operator.add]\n",
    "    avg_score: float"
   ]
  },
  {
   "cell_type": "code",
   "execution_count": 19,
   "id": "102230e7",
   "metadata": {},
   "outputs": [],
   "source": [
    "def generate_essay(state: EassayGen) -> EassayGen:\n",
    "    prompt = f'Write a detailed essay on the topic: {state[\"topic\"]}'\n",
    "    response = model.invoke(prompt)\n",
    "    return {'essay_generation': response}"
   ]
  },
  {
   "cell_type": "code",
   "execution_count": 22,
   "id": "bfaac529",
   "metadata": {},
   "outputs": [],
   "source": [
    "def evaluate_language(state: EassayGen):\n",
    "    prompt = f'Evaluate the depth of analysis of the following essay and provide a feedback and assign a score out of 10 \\n {state[\"essay_generation\"]}'\n",
    "    response= structured_model.invoke(prompt)\n",
    "    return {'analysis_feedback': response.feedback, 'scores': [response.score]}"
   ]
  },
  {
   "cell_type": "code",
   "execution_count": null,
   "id": "535bc581",
   "metadata": {},
   "outputs": [],
   "source": [
    "\n",
    "def evaluate_thought(state: EassayGen):\n",
    "\n",
    "    prompt = f'Evaluate the clarity of thought of the following essay and provide a feedback and assign a score out of 10 \\n {state[\"essay_generation\"]}'\n",
    "    response = structured_model.invoke(prompt)\n",
    "\n",
    "    return {'clarity_feedback': response.feedback, 'individual_scores': [response.score]}"
   ]
  },
  {
   "cell_type": "code",
   "execution_count": null,
   "id": "0b8ef13f",
   "metadata": {},
   "outputs": [],
   "source": [
    "def evaluate_analysis(state: EassayGen):\n",
    "    prompt = f'Evaluate the language quality of the following essay and provide a feedback and assign a score out of 10 \\n {state[\"essay_generation\"]}'\n",
    "    response= structured_model.invoke(prompt)\n",
    "    return {'language_feedback': response.feedback, 'scores': [response.score]}"
   ]
  },
  {
   "cell_type": "code",
   "execution_count": null,
   "id": "bfd1edaa",
   "metadata": {},
   "outputs": [
    {
     "name": "stdout",
     "output_type": "stream",
     "text": [
      "<class '__main__.EassayGen'>\n"
     ]
    }
   ],
   "source": [
    "graph = StateGraph(EassayGen)\n",
    "graph.add_node('essay_generation', generate_essay)\n",
    "graph.add_node('essay_generation', generate_essay)\n",
    "graph.add_node('essay_generation', generate_essay)\n",
    "\n",
    "graph.add_edge(START, 'essay_generation')"
   ]
  }
 ],
 "metadata": {
  "kernelspec": {
   "display_name": "myenv",
   "language": "python",
   "name": "python3"
  },
  "language_info": {
   "codemirror_mode": {
    "name": "ipython",
    "version": 3
   },
   "file_extension": ".py",
   "mimetype": "text/x-python",
   "name": "python",
   "nbconvert_exporter": "python",
   "pygments_lexer": "ipython3",
   "version": "3.13.7"
  }
 },
 "nbformat": 4,
 "nbformat_minor": 5
}
