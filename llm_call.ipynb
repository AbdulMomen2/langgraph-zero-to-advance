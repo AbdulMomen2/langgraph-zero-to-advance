{
 "cells": [
  {
   "cell_type": "code",
   "execution_count": 2,
   "id": "27f6054e",
   "metadata": {},
   "outputs": [],
   "source": [
    "from langgraph.graph import StateGraph, START, END\n",
    "from langchain_openai import ChatOpenAI\n",
    "from typing import TypedDict\n",
    "from dotenv import load_dotenv"
   ]
  },
  {
   "cell_type": "code",
   "execution_count": 3,
   "id": "5b835f58",
   "metadata": {},
   "outputs": [
    {
     "data": {
      "text/plain": [
       "True"
      ]
     },
     "execution_count": 3,
     "metadata": {},
     "output_type": "execute_result"
    }
   ],
   "source": [
    "load_dotenv()  "
   ]
  },
  {
   "cell_type": "code",
   "execution_count": 4,
   "id": "bf0cf40e",
   "metadata": {},
   "outputs": [],
   "source": [
    "model = ChatOpenAI(model=\"gpt-3.5-turbo\", temperature=0)"
   ]
  },
  {
   "cell_type": "code",
   "execution_count": 5,
   "id": "fd52040e",
   "metadata": {},
   "outputs": [],
   "source": [
    "class BlogGen(TypedDict):\n",
    "    topic: str\n",
    "    outline: str\n",
    "    blog: str\n",
    "    keywords: list[str]"
   ]
  },
  {
   "cell_type": "code",
   "execution_count": 6,
   "id": "2bcf857a",
   "metadata": {},
   "outputs": [],
   "source": [
    "def create_outline(state: BlogGen) -> BlogGen:\n",
    "    topic = state[\"topic\"]\n",
    "    prompt = f\"Create a detailed outline for a blog post about {topic}.\"\n",
    "    outline = model.invoke(prompt).content\n",
    "    state[\"outline\"] = outline\n",
    "    return state"
   ]
  },
  {
   "cell_type": "code",
   "execution_count": 7,
   "id": "8be656e4",
   "metadata": {},
   "outputs": [],
   "source": [
    "def create_blog(state: BlogGen) -> BlogGen:\n",
    "    topic = state[\"topic\"]\n",
    "    outline = state[\"outline\"]\n",
    "    prompt = f\"Create a detailed structured blog post on this {topic} using the {outline}.\"\n",
    "    blog = model.invoke(prompt).content\n",
    "    state[\"blog\"] = blog\n",
    "    return state"
   ]
  },
  {
   "cell_type": "code",
   "execution_count": 15,
   "id": "257a2398",
   "metadata": {},
   "outputs": [],
   "source": [
    "graph = StateGraph(BlogGen)\n",
    "\n",
    "graph.add_node('create_outline', create_outline)\n",
    "graph.add_node('create_blog', create_blog)\n",
    "\n",
    "graph.add_edge(START, 'create_outline')\n",
    "graph.add_edge('create_outline', 'create_blog')\n",
    "graph.add_edge('create_blog', END)\n",
    "\n",
    "workflow= graph.compile()"
   ]
  },
  {
   "cell_type": "code",
   "execution_count": 19,
   "id": "65b66793",
   "metadata": {},
   "outputs": [
    {
     "name": "stdout",
     "output_type": "stream",
     "text": [
      "\n",
      "\n",
      "I. Introduction\n",
      "\n",
      "A. Brief overview of AI in healthcare\n",
      "Artificial Intelligence (AI) has been making significant strides in the healthcare industry, with the potential to revolutionize the way healthcare is delivered. AI technologies, such as machine learning and natural language processing, have the ability to analyze vast amounts of data and provide insights that can improve patient outcomes and streamline healthcare processes.\n",
      "\n",
      "B. Importance of AI in improving healthcare outcomes\n",
      "AI has the potential to improve diagnostic accuracy, personalize treatment plans, and enhance patient care. By leveraging AI technologies, healthcare providers can make more informed decisions, leading to better outcomes for patients.\n",
      "\n",
      "C. Thesis statement: The future of AI in healthcare holds great potential for revolutionizing the industry\n",
      "As AI continues to advance, the possibilities for its application in healthcare are endless. From predictive analytics to personalized medicine, AI has the potential to transform the way healthcare is delivered and improve patient outcomes.\n",
      "\n",
      "II. Current Applications of AI in Healthcare\n",
      "\n",
      "A. Diagnostic imaging\n",
      "AI algorithms can analyze medical images, such as X-rays and MRIs, to assist radiologists in detecting abnormalities and making accurate diagnoses.\n",
      "\n",
      "B. Personalized medicine\n",
      "AI can analyze genetic data and other patient information to tailor treatment plans to individual patients, improving the effectiveness of treatments and reducing side effects.\n",
      "\n",
      "C. Drug discovery\n",
      "AI can analyze vast amounts of data to identify potential drug candidates and accelerate the drug discovery process, leading to the development of new treatments for various diseases.\n",
      "\n",
      "D. Virtual health assistants\n",
      "AI-powered virtual assistants can provide patients with personalized health information, reminders for medication, and guidance on managing chronic conditions.\n",
      "\n",
      "III. Benefits of AI in Healthcare\n",
      "\n",
      "A. Improved accuracy and efficiency in diagnosis\n",
      "AI can help healthcare providers make more accurate and timely diagnoses, leading to better treatment outcomes for patients.\n",
      "\n",
      "B. Enhanced patient outcomes\n",
      "By personalizing treatment plans and providing real-time monitoring, AI can improve patient outcomes and quality of care.\n",
      "\n",
      "C. Cost savings for healthcare providers\n",
      "AI technologies can help healthcare providers streamline processes, reduce administrative costs, and improve efficiency, leading to cost savings for healthcare organizations.\n",
      "\n",
      "D. Increased access to healthcare services\n",
      "AI-powered telemedicine platforms can provide patients with access to healthcare services from anywhere, improving access to care for underserved populations.\n",
      "\n",
      "IV. Challenges and Limitations of AI in Healthcare\n",
      "\n",
      "A. Data privacy and security concerns\n",
      "As AI technologies rely on vast amounts of patient data, there are concerns about data privacy and security, as well as the potential for data breaches.\n",
      "\n",
      "B. Lack of regulatory framework\n",
      "The rapid advancement of AI in healthcare has outpaced regulatory frameworks, leading to challenges in ensuring the safety and effectiveness of AI technologies.\n",
      "\n",
      "C. Bias in AI algorithms\n",
      "AI algorithms can be biased based on the data they are trained on, leading to disparities in healthcare outcomes for certain populations.\n",
      "\n",
      "D. Integration with existing healthcare systems\n",
      "Integrating AI technologies into existing healthcare systems can be challenging, requiring changes to workflows and processes to ensure seamless implementation.\n",
      "\n",
      "V. The Future of AI in Healthcare\n",
      "\n",
      "A. Predictive analytics for early disease detection\n",
      "AI can analyze patient data to identify patterns and predict the likelihood of developing certain diseases, enabling early intervention and prevention.\n",
      "\n",
      "B. Precision medicine tailored to individual patients\n",
      "AI can analyze genetic data, lifestyle factors, and other patient information to tailor treatment plans to individual patients, improving treatment outcomes and reducing side effects.\n",
      "\n",
      "C. Remote monitoring and telemedicine\n",
      "AI-powered remote monitoring devices can track patient health data in real-time and provide insights to healthcare providers, enabling virtual consultations and remote care management.\n",
      "\n",
      "D. AI-powered robotic surgery\n",
      "AI technologies can assist surgeons in performing complex procedures with greater precision and accuracy, leading to improved surgical outcomes and reduced recovery times.\n",
      "\n",
      "VI. Ethical Considerations in AI Healthcare\n",
      "\n",
      "A. Ensuring patient consent and data privacy\n",
      "Healthcare providers must ensure that patients are informed about how their data is being used and obtain consent for the use of AI technologies in their care.\n",
      "\n",
      "B. Addressing bias in AI algorithms\n",
      "Healthcare providers must be vigilant in identifying and addressing bias in AI algorithms to ensure fair and equitable treatment for all patients.\n",
      "\n",
      "C. Maintaining human oversight in AI decision-making\n",
      "While AI technologies can provide valuable insights, human oversight is essential to ensure that decisions are made in the best interest of patients and adhere to ethical standards.\n",
      "\n",
      "VII. Conclusion\n",
      "\n",
      "A. Recap of the potential of AI in healthcare\n",
      "AI has the potential to revolutionize the healthcare industry by improving diagnostic accuracy, personalizing treatment plans, and enhancing patient outcomes.\n",
      "\n",
      "B. Call to action for healthcare providers and policymakers to embrace AI technology\n",
      "Healthcare providers and policymakers must embrace AI technology and work together to address challenges and harness the potential of AI to improve healthcare delivery.\n",
      "\n",
      "C. Final thoughts on the future of AI in healthcare and its impact on the industry\n",
      "The future of AI in healthcare is bright, with the potential to transform the way healthcare is delivered and improve patient outcomes. By embracing AI technologies and addressing ethical considerations, healthcare providers can harness the power of AI to revolutionize the industry.\n"
     ]
    }
   ],
   "source": [
    "initial_state = { \"topic\": \"The Future of AI in Healthcare\" }\n",
    "final_state = workflow.invoke(initial_state)\n",
    "\n",
    "print(final_state['blog'])"
   ]
  }
 ],
 "metadata": {
  "kernelspec": {
   "display_name": "myenv",
   "language": "python",
   "name": "python3"
  },
  "language_info": {
   "codemirror_mode": {
    "name": "ipython",
    "version": 3
   },
   "file_extension": ".py",
   "mimetype": "text/x-python",
   "name": "python",
   "nbconvert_exporter": "python",
   "pygments_lexer": "ipython3",
   "version": "3.13.7"
  }
 },
 "nbformat": 4,
 "nbformat_minor": 5
}
